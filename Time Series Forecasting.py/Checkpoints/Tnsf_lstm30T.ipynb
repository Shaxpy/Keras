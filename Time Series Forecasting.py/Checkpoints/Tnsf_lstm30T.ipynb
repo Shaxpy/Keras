{
  "nbformat": 4,
  "nbformat_minor": 0,
  "metadata": {
    "kernelspec": {
      "display_name": "Python 3",
      "language": "python",
      "name": "python3"
    },
    "language_info": {
      "codemirror_mode": {
        "name": "ipython",
        "version": 3
      },
      "file_extension": ".py",
      "mimetype": "text/x-python",
      "name": "python",
      "nbconvert_exporter": "python",
      "pygments_lexer": "ipython3",
      "version": "3.6.7"
    },
    "colab": {
      "name": "Tnsf_lstm30T.ipynb",
      "provenance": [],
      "collapsed_sections": []
    },
    "accelerator": "GPU"
  },
  "cells": [
    {
      "cell_type": "code",
      "metadata": {
        "id": "y56vE-QO0bru",
        "colab_type": "code",
        "colab": {}
      },
      "source": [
        "import numpy as np\n",
        "import pandas as pd\n",
        "import matplotlib.pyplot as plt\n",
        "%matplotlib inline\n",
        "from statsmodels.tools.eval_measures import rmse\n",
        "from sklearn.preprocessing import MinMaxScaler\n",
        "from keras.preprocessing.sequence import TimeseriesGenerator\n",
        "from keras.models import Sequential\n",
        "from keras.layers import Dense\n",
        "from keras.layers import LSTM\n",
        "from keras.layers import Dropout\n",
        "import warnings\n",
        "warnings.filterwarnings(\"ignore\")\n",
        "\n",
        "df = pd.read_csv('device41.csv',squeeze=True)"
      ],
      "execution_count": 0,
      "outputs": []
    },
    {
      "cell_type": "code",
      "metadata": {
        "id": "Yvk3nS2K0bsE",
        "colab_type": "code",
        "colab": {}
      },
      "source": [
        "df.DateTime = pd.to_datetime(df.DateTime)\n",
        "df = df.set_index(\"DateTime\")"
      ],
      "execution_count": 0,
      "outputs": []
    },
    {
      "cell_type": "code",
      "metadata": {
        "id": "pFEs7dwI1TiL",
        "colab_type": "code",
        "outputId": "1bb956a4-0648-4239-9630-87a9c3ae9dde",
        "colab": {
          "base_uri": "https://localhost:8080/",
          "height": 52
        }
      },
      "source": [
        "df = df.resample('30T').max()\n",
        "df = df.fillna(method = 'ffill')\n",
        "df.isna().sum()"
      ],
      "execution_count": 0,
      "outputs": [
        {
          "output_type": "execute_result",
          "data": {
            "text/plain": [
              "pm25    0\n",
              "dtype: int64"
            ]
          },
          "metadata": {
            "tags": []
          },
          "execution_count": 155
        }
      ]
    },
    {
      "cell_type": "code",
      "metadata": {
        "id": "psa_az0mfhVj",
        "colab_type": "code",
        "outputId": "22eb881d-30e8-4fae-8833-82d3f00e6041",
        "colab": {
          "base_uri": "https://localhost:8080/",
          "height": 455
        }
      },
      "source": [
        "# df[:-24]\n",
        "df"
      ],
      "execution_count": 0,
      "outputs": [
        {
          "output_type": "execute_result",
          "data": {
            "text/html": [
              "<div>\n",
              "<style scoped>\n",
              "    .dataframe tbody tr th:only-of-type {\n",
              "        vertical-align: middle;\n",
              "    }\n",
              "\n",
              "    .dataframe tbody tr th {\n",
              "        vertical-align: top;\n",
              "    }\n",
              "\n",
              "    .dataframe thead th {\n",
              "        text-align: right;\n",
              "    }\n",
              "</style>\n",
              "<table border=\"1\" class=\"dataframe\">\n",
              "  <thead>\n",
              "    <tr style=\"text-align: right;\">\n",
              "      <th></th>\n",
              "      <th>pm25</th>\n",
              "    </tr>\n",
              "    <tr>\n",
              "      <th>DateTime</th>\n",
              "      <th></th>\n",
              "    </tr>\n",
              "  </thead>\n",
              "  <tbody>\n",
              "    <tr>\n",
              "      <th>2019-12-27 00:00:00</th>\n",
              "      <td>274.0</td>\n",
              "    </tr>\n",
              "    <tr>\n",
              "      <th>2019-12-27 00:30:00</th>\n",
              "      <td>260.0</td>\n",
              "    </tr>\n",
              "    <tr>\n",
              "      <th>2019-12-27 01:00:00</th>\n",
              "      <td>254.0</td>\n",
              "    </tr>\n",
              "    <tr>\n",
              "      <th>2019-12-27 01:30:00</th>\n",
              "      <td>256.0</td>\n",
              "    </tr>\n",
              "    <tr>\n",
              "      <th>2019-12-27 02:00:00</th>\n",
              "      <td>268.0</td>\n",
              "    </tr>\n",
              "    <tr>\n",
              "      <th>...</th>\n",
              "      <td>...</td>\n",
              "    </tr>\n",
              "    <tr>\n",
              "      <th>2020-01-03 21:30:00</th>\n",
              "      <td>286.0</td>\n",
              "    </tr>\n",
              "    <tr>\n",
              "      <th>2020-01-03 22:00:00</th>\n",
              "      <td>288.0</td>\n",
              "    </tr>\n",
              "    <tr>\n",
              "      <th>2020-01-03 22:30:00</th>\n",
              "      <td>299.0</td>\n",
              "    </tr>\n",
              "    <tr>\n",
              "      <th>2020-01-03 23:00:00</th>\n",
              "      <td>295.0</td>\n",
              "    </tr>\n",
              "    <tr>\n",
              "      <th>2020-01-03 23:30:00</th>\n",
              "      <td>312.0</td>\n",
              "    </tr>\n",
              "  </tbody>\n",
              "</table>\n",
              "<p>384 rows × 1 columns</p>\n",
              "</div>"
            ],
            "text/plain": [
              "                      pm25\n",
              "DateTime                  \n",
              "2019-12-27 00:00:00  274.0\n",
              "2019-12-27 00:30:00  260.0\n",
              "2019-12-27 01:00:00  254.0\n",
              "2019-12-27 01:30:00  256.0\n",
              "2019-12-27 02:00:00  268.0\n",
              "...                    ...\n",
              "2020-01-03 21:30:00  286.0\n",
              "2020-01-03 22:00:00  288.0\n",
              "2020-01-03 22:30:00  299.0\n",
              "2020-01-03 23:00:00  295.0\n",
              "2020-01-03 23:30:00  312.0\n",
              "\n",
              "[384 rows x 1 columns]"
            ]
          },
          "metadata": {
            "tags": []
          },
          "execution_count": 184
        }
      ]
    },
    {
      "cell_type": "code",
      "metadata": {
        "id": "Fh2PCCvl0bsS",
        "colab_type": "code",
        "colab": {}
      },
      "source": [
        "train, test = df[:-24], df[-24:]"
      ],
      "execution_count": 0,
      "outputs": []
    },
    {
      "cell_type": "code",
      "metadata": {
        "id": "aO1PKXtm0bse",
        "colab_type": "code",
        "colab": {}
      },
      "source": [
        "scaler = MinMaxScaler()\n",
        "scaler.fit(train)\n",
        "train = scaler.transform(train)\n",
        "test = scaler.transform(test)"
      ],
      "execution_count": 0,
      "outputs": []
    },
    {
      "cell_type": "code",
      "metadata": {
        "id": "hjEBxJEn0bso",
        "colab_type": "code",
        "colab": {}
      },
      "source": [
        "n_input = 3\n",
        "n_features = 1\n",
        "generator = TimeseriesGenerator(train, train, length=n_input,sampling_rate=1, batch_size=6)"
      ],
      "execution_count": 0,
      "outputs": []
    },
    {
      "cell_type": "code",
      "metadata": {
        "id": "xD6AEBHn0bs0",
        "colab_type": "code",
        "colab": {}
      },
      "source": [
        "model = Sequential()\n",
        "model.add(LSTM(4, activation='relu', input_shape=(n_input, n_features)))\n",
        "model.add(Dropout(0.14))\n",
        "model.add(Dense(1))\n",
        "model.compile(optimizer='adam', loss='mse', metrics=['mae', 'acc'])"
      ],
      "execution_count": 0,
      "outputs": []
    },
    {
      "cell_type": "code",
      "metadata": {
        "scrolled": true,
        "id": "DpjBu0Zh0btC",
        "colab_type": "code",
        "outputId": "aa09f3e4-9665-4dc8-9ffc-6f816a827d8b",
        "colab": {
          "base_uri": "https://localhost:8080/",
          "height": 1000
        }
      },
      "source": [
        "model.fit_generator(generator,epochs=40)"
      ],
      "execution_count": 0,
      "outputs": [
        {
          "output_type": "stream",
          "text": [
            "Epoch 1/40\n",
            "60/60 [==============================] - 1s 23ms/step - loss: 0.2324 - mae: 0.4255 - acc: 0.0028\n",
            "Epoch 2/40\n",
            "60/60 [==============================] - 1s 16ms/step - loss: 0.1427 - mae: 0.3166 - acc: 0.0028\n",
            "Epoch 3/40\n",
            "60/60 [==============================] - 1s 17ms/step - loss: 0.0934 - mae: 0.2442 - acc: 0.0028\n",
            "Epoch 4/40\n",
            "60/60 [==============================] - 1s 16ms/step - loss: 0.0627 - mae: 0.1931 - acc: 0.0028\n",
            "Epoch 5/40\n",
            "60/60 [==============================] - 1s 17ms/step - loss: 0.0416 - mae: 0.1535 - acc: 0.0056\n",
            "Epoch 6/40\n",
            "60/60 [==============================] - 1s 16ms/step - loss: 0.0333 - mae: 0.1392 - acc: 0.0056\n",
            "Epoch 7/40\n",
            "60/60 [==============================] - 1s 17ms/step - loss: 0.0280 - mae: 0.1302 - acc: 0.0056\n",
            "Epoch 8/40\n",
            "60/60 [==============================] - 1s 17ms/step - loss: 0.0316 - mae: 0.1341 - acc: 0.0056\n",
            "Epoch 9/40\n",
            "60/60 [==============================] - 1s 15ms/step - loss: 0.0367 - mae: 0.1382 - acc: 0.0028\n",
            "Epoch 10/40\n",
            "60/60 [==============================] - 1s 16ms/step - loss: 0.0317 - mae: 0.1287 - acc: 0.0056\n",
            "Epoch 11/40\n",
            "60/60 [==============================] - 1s 17ms/step - loss: 0.0246 - mae: 0.1166 - acc: 0.0056\n",
            "Epoch 12/40\n",
            "60/60 [==============================] - 1s 16ms/step - loss: 0.0267 - mae: 0.1220 - acc: 0.0028\n",
            "Epoch 13/40\n",
            "60/60 [==============================] - 1s 16ms/step - loss: 0.0274 - mae: 0.1204 - acc: 0.0028\n",
            "Epoch 14/40\n",
            "60/60 [==============================] - 1s 16ms/step - loss: 0.0311 - mae: 0.1285 - acc: 0.0056\n",
            "Epoch 15/40\n",
            "60/60 [==============================] - 1s 17ms/step - loss: 0.0291 - mae: 0.1222 - acc: 0.0056\n",
            "Epoch 16/40\n",
            "60/60 [==============================] - 1s 17ms/step - loss: 0.0313 - mae: 0.1221 - acc: 0.0056\n",
            "Epoch 17/40\n",
            "60/60 [==============================] - 1s 17ms/step - loss: 0.0293 - mae: 0.1222 - acc: 0.0056\n",
            "Epoch 18/40\n",
            "60/60 [==============================] - 1s 16ms/step - loss: 0.0239 - mae: 0.1108 - acc: 0.0056\n",
            "Epoch 19/40\n",
            "60/60 [==============================] - 1s 16ms/step - loss: 0.0197 - mae: 0.1023 - acc: 0.0056\n",
            "Epoch 20/40\n",
            "60/60 [==============================] - 1s 17ms/step - loss: 0.0223 - mae: 0.1048 - acc: 0.0056\n",
            "Epoch 21/40\n",
            "60/60 [==============================] - 1s 17ms/step - loss: 0.0260 - mae: 0.1169 - acc: 0.0056\n",
            "Epoch 22/40\n",
            "60/60 [==============================] - 1s 16ms/step - loss: 0.0268 - mae: 0.1165 - acc: 0.0056\n",
            "Epoch 23/40\n",
            "60/60 [==============================] - 1s 17ms/step - loss: 0.0193 - mae: 0.0994 - acc: 0.0056\n",
            "Epoch 24/40\n",
            "60/60 [==============================] - 1s 17ms/step - loss: 0.0250 - mae: 0.1052 - acc: 0.0056\n",
            "Epoch 25/40\n",
            "60/60 [==============================] - 1s 17ms/step - loss: 0.0183 - mae: 0.0963 - acc: 0.0056\n",
            "Epoch 26/40\n",
            "60/60 [==============================] - 1s 18ms/step - loss: 0.0217 - mae: 0.1018 - acc: 0.0056\n",
            "Epoch 27/40\n",
            "60/60 [==============================] - 1s 17ms/step - loss: 0.0204 - mae: 0.0976 - acc: 0.0028\n",
            "Epoch 28/40\n",
            "60/60 [==============================] - 1s 16ms/step - loss: 0.0247 - mae: 0.1052 - acc: 0.0056\n",
            "Epoch 29/40\n",
            "60/60 [==============================] - 1s 18ms/step - loss: 0.0208 - mae: 0.0983 - acc: 0.0056\n",
            "Epoch 30/40\n",
            "60/60 [==============================] - 1s 16ms/step - loss: 0.0162 - mae: 0.0907 - acc: 0.0056\n",
            "Epoch 31/40\n",
            "60/60 [==============================] - 1s 18ms/step - loss: 0.0235 - mae: 0.0979 - acc: 0.0056\n",
            "Epoch 32/40\n",
            "60/60 [==============================] - 1s 17ms/step - loss: 0.0238 - mae: 0.1025 - acc: 0.0028\n",
            "Epoch 33/40\n",
            "60/60 [==============================] - 1s 18ms/step - loss: 0.0160 - mae: 0.0885 - acc: 0.0056\n",
            "Epoch 34/40\n",
            "60/60 [==============================] - 1s 17ms/step - loss: 0.0197 - mae: 0.0946 - acc: 0.0056\n",
            "Epoch 35/40\n",
            "60/60 [==============================] - 1s 17ms/step - loss: 0.0215 - mae: 0.0963 - acc: 0.0056\n",
            "Epoch 36/40\n",
            "60/60 [==============================] - 1s 17ms/step - loss: 0.0162 - mae: 0.0875 - acc: 0.0056\n",
            "Epoch 37/40\n",
            "60/60 [==============================] - 1s 17ms/step - loss: 0.0213 - mae: 0.0963 - acc: 0.0056\n",
            "Epoch 38/40\n",
            "60/60 [==============================] - 1s 16ms/step - loss: 0.0159 - mae: 0.0882 - acc: 0.0056\n",
            "Epoch 39/40\n",
            "60/60 [==============================] - 1s 17ms/step - loss: 0.0171 - mae: 0.0895 - acc: 0.0056\n",
            "Epoch 40/40\n",
            "60/60 [==============================] - 1s 17ms/step - loss: 0.0160 - mae: 0.0873 - acc: 0.0056\n"
          ],
          "name": "stdout"
        },
        {
          "output_type": "execute_result",
          "data": {
            "text/plain": [
              "<keras.callbacks.callbacks.History at 0x7f525ff283c8>"
            ]
          },
          "metadata": {
            "tags": []
          },
          "execution_count": 161
        }
      ]
    },
    {
      "cell_type": "code",
      "metadata": {
        "id": "c2T2GzcA0btL",
        "colab_type": "code",
        "colab": {}
      },
      "source": [
        "pred_list = []\n",
        "batch = train[-n_input:].reshape((1, n_input, n_features))\n",
        "\n",
        "for i in range(n_input):   \n",
        "    pred_list.append(model.predict(batch)[0]) \n",
        "    batch = np.append(batch[:,1:,:],[[pred_list[i]]],axis=1)"
      ],
      "execution_count": 0,
      "outputs": []
    },
    {
      "cell_type": "code",
      "metadata": {
        "id": "YI9yJLLh0btR",
        "colab_type": "code",
        "colab": {}
      },
      "source": [
        "df_predict = pd.DataFrame(scaler.inverse_transform(pred_list),\n",
        "                          index=df[-n_input:].index, columns=['Prediction'])\n",
        "\n",
        "df_test = pd.concat([df,df_predict], axis=1)"
      ],
      "execution_count": 0,
      "outputs": []
    },
    {
      "cell_type": "code",
      "metadata": {
        "id": "3Q7jajdP0bta",
        "colab_type": "code",
        "colab": {}
      },
      "source": [
        "\n",
        "# plt.figure(figsize=(20, 5))\n",
        "# plt.plot(df_test.index, df_test['pm25'])\n",
        "# plt.plot(df_test.index, df_test['Prediction'], color='r')\n",
        "# plt.legend(loc='best', fontsize='xx-large')\n",
        "# plt.xticks(fontsize=18)\n",
        "# plt.yticks(fontsize=16)\n",
        "# plt.show()"
      ],
      "execution_count": 0,
      "outputs": []
    },
    {
      "cell_type": "code",
      "metadata": {
        "id": "HXOIuUga0bti",
        "colab_type": "code",
        "outputId": "a32c70bf-6e2b-4942-c839-47fbd776c4fb",
        "colab": {
          "base_uri": "https://localhost:8080/",
          "height": 34
        }
      },
      "source": [
        "pred_actual_rmse = rmse(df_test.iloc[-n_input:, [0]], df_test.iloc[-n_input:, [1]])\n",
        "print(\"rmse: \", pred_actual_rmse)"
      ],
      "execution_count": 0,
      "outputs": [
        {
          "output_type": "stream",
          "text": [
            "rmse:  [7.93435132]\n"
          ],
          "name": "stdout"
        }
      ]
    },
    {
      "cell_type": "code",
      "metadata": {
        "id": "0TjxKw_QIek4",
        "colab_type": "code",
        "outputId": "7c4c7fe5-261a-4342-b509-2446d4ed30ad",
        "colab": {
          "base_uri": "https://localhost:8080/",
          "height": 238
        }
      },
      "source": [
        "df_test.tail()"
      ],
      "execution_count": 0,
      "outputs": [
        {
          "output_type": "execute_result",
          "data": {
            "text/html": [
              "<div>\n",
              "<style scoped>\n",
              "    .dataframe tbody tr th:only-of-type {\n",
              "        vertical-align: middle;\n",
              "    }\n",
              "\n",
              "    .dataframe tbody tr th {\n",
              "        vertical-align: top;\n",
              "    }\n",
              "\n",
              "    .dataframe thead th {\n",
              "        text-align: right;\n",
              "    }\n",
              "</style>\n",
              "<table border=\"1\" class=\"dataframe\">\n",
              "  <thead>\n",
              "    <tr style=\"text-align: right;\">\n",
              "      <th></th>\n",
              "      <th>pm25</th>\n",
              "      <th>Prediction</th>\n",
              "    </tr>\n",
              "    <tr>\n",
              "      <th>DateTime</th>\n",
              "      <th></th>\n",
              "      <th></th>\n",
              "    </tr>\n",
              "  </thead>\n",
              "  <tbody>\n",
              "    <tr>\n",
              "      <th>2020-01-03 21:30:00</th>\n",
              "      <td>286.0</td>\n",
              "      <td>NaN</td>\n",
              "    </tr>\n",
              "    <tr>\n",
              "      <th>2020-01-03 22:00:00</th>\n",
              "      <td>288.0</td>\n",
              "      <td>NaN</td>\n",
              "    </tr>\n",
              "    <tr>\n",
              "      <th>2020-01-03 22:30:00</th>\n",
              "      <td>299.0</td>\n",
              "      <td>285.562329</td>\n",
              "    </tr>\n",
              "    <tr>\n",
              "      <th>2020-01-03 23:00:00</th>\n",
              "      <td>295.0</td>\n",
              "      <td>296.821441</td>\n",
              "    </tr>\n",
              "    <tr>\n",
              "      <th>2020-01-03 23:30:00</th>\n",
              "      <td>312.0</td>\n",
              "      <td>309.769947</td>\n",
              "    </tr>\n",
              "  </tbody>\n",
              "</table>\n",
              "</div>"
            ],
            "text/plain": [
              "                      pm25  Prediction\n",
              "DateTime                              \n",
              "2020-01-03 21:30:00  286.0         NaN\n",
              "2020-01-03 22:00:00  288.0         NaN\n",
              "2020-01-03 22:30:00  299.0  285.562329\n",
              "2020-01-03 23:00:00  295.0  296.821441\n",
              "2020-01-03 23:30:00  312.0  309.769947"
            ]
          },
          "metadata": {
            "tags": []
          },
          "execution_count": 167
        }
      ]
    },
    {
      "cell_type": "markdown",
      "metadata": {
        "id": "tdE053L3mgik",
        "colab_type": "text"
      },
      "source": [
        "## **Forecasting**\n",
        "\n"
      ]
    },
    {
      "cell_type": "code",
      "metadata": {
        "id": "-DFD5kpj0btr",
        "colab_type": "code",
        "colab": {}
      },
      "source": [
        "train = df"
      ],
      "execution_count": 0,
      "outputs": []
    },
    {
      "cell_type": "code",
      "metadata": {
        "id": "zXDmcFsq0bt0",
        "colab_type": "code",
        "colab": {}
      },
      "source": [
        "scaler.fit(train)\n",
        "train = scaler.transform(train)"
      ],
      "execution_count": 0,
      "outputs": []
    },
    {
      "cell_type": "code",
      "metadata": {
        "id": "71jlnfLS0bt9",
        "colab_type": "code",
        "colab": {}
      },
      "source": [
        "# n_input = 2\n",
        "# n_features = 1\n",
        "generator = TimeseriesGenerator(train, train, length=n_input,sampling_rate=1, batch_size=6)"
      ],
      "execution_count": 0,
      "outputs": []
    },
    {
      "cell_type": "code",
      "metadata": {
        "id": "ukNwd59F0buE",
        "colab_type": "code",
        "outputId": "6543a420-9ed1-45e9-91b8-7fd5cb4eb6e5",
        "colab": {
          "base_uri": "https://localhost:8080/",
          "height": 1000
        }
      },
      "source": [
        "model.fit_generator(generator,epochs=100)"
      ],
      "execution_count": 0,
      "outputs": [
        {
          "output_type": "stream",
          "text": [
            "Epoch 1/100\n",
            "64/64 [==============================] - 1s 18ms/step - loss: 0.0141 - mae: 0.0791 - acc: 0.0052\n",
            "Epoch 2/100\n",
            "64/64 [==============================] - 1s 17ms/step - loss: 0.0189 - mae: 0.0876 - acc: 0.0026\n",
            "Epoch 3/100\n",
            "64/64 [==============================] - 1s 16ms/step - loss: 0.0152 - mae: 0.0829 - acc: 0.0026\n",
            "Epoch 4/100\n",
            "64/64 [==============================] - 1s 17ms/step - loss: 0.0225 - mae: 0.0956 - acc: 0.0052\n",
            "Epoch 5/100\n",
            "64/64 [==============================] - 1s 16ms/step - loss: 0.0189 - mae: 0.0932 - acc: 0.0052\n",
            "Epoch 6/100\n",
            "64/64 [==============================] - 1s 17ms/step - loss: 0.0190 - mae: 0.0913 - acc: 0.0052\n",
            "Epoch 7/100\n",
            "64/64 [==============================] - 1s 17ms/step - loss: 0.0137 - mae: 0.0818 - acc: 0.0052\n",
            "Epoch 8/100\n",
            "64/64 [==============================] - 1s 18ms/step - loss: 0.0165 - mae: 0.0850 - acc: 0.0026\n",
            "Epoch 9/100\n",
            "64/64 [==============================] - 1s 17ms/step - loss: 0.0173 - mae: 0.0863 - acc: 0.0052\n",
            "Epoch 10/100\n",
            "64/64 [==============================] - 1s 16ms/step - loss: 0.0191 - mae: 0.0925 - acc: 0.0052\n",
            "Epoch 11/100\n",
            "64/64 [==============================] - 1s 16ms/step - loss: 0.0161 - mae: 0.0855 - acc: 0.0052\n",
            "Epoch 12/100\n",
            "64/64 [==============================] - 1s 16ms/step - loss: 0.0222 - mae: 0.0955 - acc: 0.0026\n",
            "Epoch 13/100\n",
            "64/64 [==============================] - 1s 17ms/step - loss: 0.0155 - mae: 0.0847 - acc: 0.0052\n",
            "Epoch 14/100\n",
            "64/64 [==============================] - 1s 17ms/step - loss: 0.0162 - mae: 0.0865 - acc: 0.0052\n",
            "Epoch 15/100\n",
            "64/64 [==============================] - 1s 17ms/step - loss: 0.0165 - mae: 0.0859 - acc: 0.0052\n",
            "Epoch 16/100\n",
            "64/64 [==============================] - 1s 17ms/step - loss: 0.0179 - mae: 0.0892 - acc: 0.0026\n",
            "Epoch 17/100\n",
            "64/64 [==============================] - 1s 17ms/step - loss: 0.0176 - mae: 0.0893 - acc: 0.0026\n",
            "Epoch 18/100\n",
            "64/64 [==============================] - 1s 16ms/step - loss: 0.0169 - mae: 0.0855 - acc: 0.0052\n",
            "Epoch 19/100\n",
            "64/64 [==============================] - 1s 17ms/step - loss: 0.0177 - mae: 0.0884 - acc: 0.0052\n",
            "Epoch 20/100\n",
            "64/64 [==============================] - 1s 17ms/step - loss: 0.0179 - mae: 0.0905 - acc: 0.0052\n",
            "Epoch 21/100\n",
            "64/64 [==============================] - 1s 16ms/step - loss: 0.0175 - mae: 0.0859 - acc: 0.0052\n",
            "Epoch 22/100\n",
            "64/64 [==============================] - 1s 18ms/step - loss: 0.0141 - mae: 0.0825 - acc: 0.0052\n",
            "Epoch 23/100\n",
            "64/64 [==============================] - 1s 17ms/step - loss: 0.0172 - mae: 0.0903 - acc: 0.0052\n",
            "Epoch 24/100\n",
            "64/64 [==============================] - 1s 17ms/step - loss: 0.0213 - mae: 0.0943 - acc: 0.0026\n",
            "Epoch 25/100\n",
            "64/64 [==============================] - 1s 18ms/step - loss: 0.0192 - mae: 0.0923 - acc: 0.0052\n",
            "Epoch 26/100\n",
            "64/64 [==============================] - 1s 17ms/step - loss: 0.0179 - mae: 0.0884 - acc: 0.0052\n",
            "Epoch 27/100\n",
            "64/64 [==============================] - 1s 16ms/step - loss: 0.0208 - mae: 0.0921 - acc: 0.0026\n",
            "Epoch 28/100\n",
            "64/64 [==============================] - 1s 17ms/step - loss: 0.0185 - mae: 0.0897 - acc: 0.0052\n",
            "Epoch 29/100\n",
            "64/64 [==============================] - 1s 18ms/step - loss: 0.0177 - mae: 0.0902 - acc: 0.0052\n",
            "Epoch 30/100\n",
            "64/64 [==============================] - 1s 17ms/step - loss: 0.0187 - mae: 0.0897 - acc: 0.0052\n",
            "Epoch 31/100\n",
            "64/64 [==============================] - 1s 16ms/step - loss: 0.0210 - mae: 0.0948 - acc: 0.0052\n",
            "Epoch 32/100\n",
            "64/64 [==============================] - 1s 17ms/step - loss: 0.0192 - mae: 0.0911 - acc: 0.0052\n",
            "Epoch 33/100\n",
            "64/64 [==============================] - 1s 17ms/step - loss: 0.0167 - mae: 0.0887 - acc: 0.0052\n",
            "Epoch 34/100\n",
            "64/64 [==============================] - 1s 16ms/step - loss: 0.0137 - mae: 0.0804 - acc: 0.0052\n",
            "Epoch 35/100\n",
            "64/64 [==============================] - 1s 17ms/step - loss: 0.0191 - mae: 0.0907 - acc: 0.0052\n",
            "Epoch 36/100\n",
            "64/64 [==============================] - 1s 17ms/step - loss: 0.0172 - mae: 0.0860 - acc: 0.0052\n",
            "Epoch 37/100\n",
            "64/64 [==============================] - 1s 17ms/step - loss: 0.0171 - mae: 0.0880 - acc: 0.0052\n",
            "Epoch 38/100\n",
            "64/64 [==============================] - 1s 17ms/step - loss: 0.0178 - mae: 0.0879 - acc: 0.0052\n",
            "Epoch 39/100\n",
            "64/64 [==============================] - 1s 16ms/step - loss: 0.0139 - mae: 0.0794 - acc: 0.0052\n",
            "Epoch 40/100\n",
            "64/64 [==============================] - 1s 17ms/step - loss: 0.0156 - mae: 0.0828 - acc: 0.0052\n",
            "Epoch 41/100\n",
            "64/64 [==============================] - 1s 17ms/step - loss: 0.0171 - mae: 0.0863 - acc: 0.0052\n",
            "Epoch 42/100\n",
            "64/64 [==============================] - 1s 17ms/step - loss: 0.0150 - mae: 0.0811 - acc: 0.0052\n",
            "Epoch 43/100\n",
            "64/64 [==============================] - 1s 17ms/step - loss: 0.0197 - mae: 0.0907 - acc: 0.0052\n",
            "Epoch 44/100\n",
            "64/64 [==============================] - 1s 18ms/step - loss: 0.0171 - mae: 0.0873 - acc: 0.0052\n",
            "Epoch 45/100\n",
            "64/64 [==============================] - 1s 17ms/step - loss: 0.0136 - mae: 0.0794 - acc: 0.0052\n",
            "Epoch 46/100\n",
            "64/64 [==============================] - 1s 16ms/step - loss: 0.0201 - mae: 0.0915 - acc: 0.0052\n",
            "Epoch 47/100\n",
            "64/64 [==============================] - 1s 17ms/step - loss: 0.0196 - mae: 0.0913 - acc: 0.0026\n",
            "Epoch 48/100\n",
            "64/64 [==============================] - 1s 17ms/step - loss: 0.0160 - mae: 0.0825 - acc: 0.0052\n",
            "Epoch 49/100\n",
            "64/64 [==============================] - 1s 16ms/step - loss: 0.0169 - mae: 0.0849 - acc: 0.0052\n",
            "Epoch 50/100\n",
            "64/64 [==============================] - 1s 17ms/step - loss: 0.0165 - mae: 0.0871 - acc: 0.0052\n",
            "Epoch 51/100\n",
            "64/64 [==============================] - 1s 17ms/step - loss: 0.0177 - mae: 0.0883 - acc: 0.0052\n",
            "Epoch 52/100\n",
            "64/64 [==============================] - 1s 16ms/step - loss: 0.0163 - mae: 0.0853 - acc: 0.0052\n",
            "Epoch 53/100\n",
            "64/64 [==============================] - 1s 17ms/step - loss: 0.0136 - mae: 0.0800 - acc: 0.0052\n",
            "Epoch 54/100\n",
            "64/64 [==============================] - 1s 17ms/step - loss: 0.0184 - mae: 0.0903 - acc: 0.0052\n",
            "Epoch 55/100\n",
            "64/64 [==============================] - 1s 17ms/step - loss: 0.0167 - mae: 0.0861 - acc: 0.0052\n",
            "Epoch 56/100\n",
            "64/64 [==============================] - 1s 16ms/step - loss: 0.0197 - mae: 0.0914 - acc: 0.0052\n",
            "Epoch 57/100\n",
            "64/64 [==============================] - 1s 17ms/step - loss: 0.0181 - mae: 0.0857 - acc: 0.0052\n",
            "Epoch 58/100\n",
            "64/64 [==============================] - 1s 16ms/step - loss: 0.0164 - mae: 0.0875 - acc: 0.0052\n",
            "Epoch 59/100\n",
            "64/64 [==============================] - 1s 17ms/step - loss: 0.0183 - mae: 0.0875 - acc: 0.0052\n",
            "Epoch 60/100\n",
            "64/64 [==============================] - 1s 18ms/step - loss: 0.0166 - mae: 0.0854 - acc: 0.0052\n",
            "Epoch 61/100\n",
            "64/64 [==============================] - 1s 16ms/step - loss: 0.0184 - mae: 0.0900 - acc: 0.0052\n",
            "Epoch 62/100\n",
            "64/64 [==============================] - 1s 17ms/step - loss: 0.0184 - mae: 0.0887 - acc: 0.0052\n",
            "Epoch 63/100\n",
            "64/64 [==============================] - 1s 17ms/step - loss: 0.0165 - mae: 0.0860 - acc: 0.0052\n",
            "Epoch 64/100\n",
            "64/64 [==============================] - 1s 16ms/step - loss: 0.0223 - mae: 0.0928 - acc: 0.0052\n",
            "Epoch 65/100\n",
            "64/64 [==============================] - 1s 16ms/step - loss: 0.0186 - mae: 0.0894 - acc: 0.0052\n",
            "Epoch 66/100\n",
            "64/64 [==============================] - 1s 17ms/step - loss: 0.0150 - mae: 0.0822 - acc: 0.0052\n",
            "Epoch 67/100\n",
            "64/64 [==============================] - 1s 16ms/step - loss: 0.0194 - mae: 0.0922 - acc: 0.0052\n",
            "Epoch 68/100\n",
            "64/64 [==============================] - 1s 17ms/step - loss: 0.0161 - mae: 0.0856 - acc: 0.0052\n",
            "Epoch 69/100\n",
            "64/64 [==============================] - 1s 17ms/step - loss: 0.0168 - mae: 0.0851 - acc: 0.0052\n",
            "Epoch 70/100\n",
            "64/64 [==============================] - 1s 17ms/step - loss: 0.0203 - mae: 0.0931 - acc: 0.0052\n",
            "Epoch 71/100\n",
            "64/64 [==============================] - 1s 17ms/step - loss: 0.0199 - mae: 0.0887 - acc: 0.0052\n",
            "Epoch 72/100\n",
            "64/64 [==============================] - 1s 15ms/step - loss: 0.0156 - mae: 0.0822 - acc: 0.0052\n",
            "Epoch 73/100\n",
            "64/64 [==============================] - 1s 16ms/step - loss: 0.0167 - mae: 0.0861 - acc: 0.0052\n",
            "Epoch 74/100\n",
            "64/64 [==============================] - 1s 16ms/step - loss: 0.0156 - mae: 0.0818 - acc: 0.0052\n",
            "Epoch 75/100\n",
            "64/64 [==============================] - 1s 17ms/step - loss: 0.0189 - mae: 0.0910 - acc: 0.0052\n",
            "Epoch 76/100\n",
            "64/64 [==============================] - 1s 17ms/step - loss: 0.0154 - mae: 0.0839 - acc: 0.0052\n",
            "Epoch 77/100\n",
            "64/64 [==============================] - 1s 17ms/step - loss: 0.0153 - mae: 0.0815 - acc: 0.0052\n",
            "Epoch 78/100\n",
            "64/64 [==============================] - 1s 17ms/step - loss: 0.0162 - mae: 0.0836 - acc: 0.0052\n",
            "Epoch 79/100\n",
            "64/64 [==============================] - 1s 16ms/step - loss: 0.0157 - mae: 0.0824 - acc: 0.0052\n",
            "Epoch 80/100\n",
            "64/64 [==============================] - 1s 17ms/step - loss: 0.0175 - mae: 0.0859 - acc: 0.0052\n",
            "Epoch 81/100\n",
            "64/64 [==============================] - 1s 17ms/step - loss: 0.0172 - mae: 0.0841 - acc: 0.0052\n",
            "Epoch 82/100\n",
            "64/64 [==============================] - 1s 17ms/step - loss: 0.0194 - mae: 0.0918 - acc: 0.0052\n",
            "Epoch 83/100\n",
            "64/64 [==============================] - 1s 17ms/step - loss: 0.0169 - mae: 0.0836 - acc: 0.0052\n",
            "Epoch 84/100\n",
            "64/64 [==============================] - 1s 17ms/step - loss: 0.0164 - mae: 0.0849 - acc: 0.0052\n",
            "Epoch 85/100\n",
            "64/64 [==============================] - 1s 16ms/step - loss: 0.0197 - mae: 0.0880 - acc: 0.0052\n",
            "Epoch 86/100\n",
            "64/64 [==============================] - 1s 17ms/step - loss: 0.0178 - mae: 0.0870 - acc: 0.0026\n",
            "Epoch 87/100\n",
            "64/64 [==============================] - 1s 18ms/step - loss: 0.0159 - mae: 0.0844 - acc: 0.0052\n",
            "Epoch 88/100\n",
            "64/64 [==============================] - 1s 16ms/step - loss: 0.0183 - mae: 0.0891 - acc: 0.0052\n",
            "Epoch 89/100\n",
            "64/64 [==============================] - 1s 17ms/step - loss: 0.0216 - mae: 0.0950 - acc: 0.0026\n",
            "Epoch 90/100\n",
            "64/64 [==============================] - 1s 16ms/step - loss: 0.0197 - mae: 0.0889 - acc: 0.0026\n",
            "Epoch 91/100\n",
            "64/64 [==============================] - 1s 18ms/step - loss: 0.0176 - mae: 0.0851 - acc: 0.0052\n",
            "Epoch 92/100\n",
            "64/64 [==============================] - 1s 17ms/step - loss: 0.0146 - mae: 0.0819 - acc: 0.0052\n",
            "Epoch 93/100\n",
            "64/64 [==============================] - 1s 17ms/step - loss: 0.0164 - mae: 0.0835 - acc: 0.0026\n",
            "Epoch 94/100\n",
            "64/64 [==============================] - 1s 16ms/step - loss: 0.0155 - mae: 0.0815 - acc: 0.0052\n",
            "Epoch 95/100\n",
            "64/64 [==============================] - 1s 17ms/step - loss: 0.0212 - mae: 0.0907 - acc: 0.0052\n",
            "Epoch 96/100\n",
            "64/64 [==============================] - 1s 17ms/step - loss: 0.0165 - mae: 0.0850 - acc: 0.0052\n",
            "Epoch 97/100\n",
            "64/64 [==============================] - 1s 17ms/step - loss: 0.0141 - mae: 0.0808 - acc: 0.0052\n",
            "Epoch 98/100\n",
            "64/64 [==============================] - 1s 16ms/step - loss: 0.0171 - mae: 0.0824 - acc: 0.0052\n",
            "Epoch 99/100\n",
            "64/64 [==============================] - 1s 17ms/step - loss: 0.0202 - mae: 0.0887 - acc: 0.0026\n",
            "Epoch 100/100\n",
            "64/64 [==============================] - 1s 17ms/step - loss: 0.0137 - mae: 0.0765 - acc: 0.0052\n"
          ],
          "name": "stdout"
        },
        {
          "output_type": "execute_result",
          "data": {
            "text/plain": [
              "<keras.callbacks.callbacks.History at 0x7f525fb47828>"
            ]
          },
          "metadata": {
            "tags": []
          },
          "execution_count": 176
        }
      ]
    },
    {
      "cell_type": "code",
      "metadata": {
        "id": "kDPEVl9p0buL",
        "colab_type": "code",
        "colab": {}
      },
      "source": [
        "pred_list = []\n",
        "\n",
        "batch = train[-n_input:].reshape((1, n_input, n_features))\n",
        "\n",
        "for i in range(n_input):   \n",
        "    pred_list.append(model.predict(batch)[0]) \n",
        "    batch = np.append(batch[:,1:,:],[[pred_list[i]]],axis=1)"
      ],
      "execution_count": 0,
      "outputs": []
    },
    {
      "cell_type": "code",
      "metadata": {
        "id": "iuRLcZJrKgxA",
        "colab_type": "code",
        "colab": {}
      },
      "source": [
        "from pandas.tseries.offsets import DateOffset"
      ],
      "execution_count": 0,
      "outputs": []
    },
    {
      "cell_type": "code",
      "metadata": {
        "id": "nQeMf3qI0buS",
        "colab_type": "code",
        "colab": {}
      },
      "source": [
        "add_dates = [df.index[-1] + DateOffset(hours=x) for x in range(0,n_input+1)]\n",
        "future_dates = pd.DataFrame(index=add_dates[1:],columns=df.columns)"
      ],
      "execution_count": 0,
      "outputs": []
    },
    {
      "cell_type": "code",
      "metadata": {
        "id": "Ayg2-v2l0bua",
        "colab_type": "code",
        "colab": {}
      },
      "source": [
        "df_predict = pd.DataFrame(scaler.inverse_transform(pred_list),\n",
        "                          index=future_dates[-n_input:].index, columns=['Prediction'])\n",
        "\n",
        "df_proj = pd.concat([df,df_predict], axis=1)"
      ],
      "execution_count": 0,
      "outputs": []
    },
    {
      "cell_type": "code",
      "metadata": {
        "id": "Yu1K9B08e3cN",
        "colab_type": "code",
        "outputId": "d875b853-1d45-40e2-9247-8d8692fccc9b",
        "colab": {
          "base_uri": "https://localhost:8080/",
          "height": 424
        }
      },
      "source": [
        "df_proj.tail(-4)"
      ],
      "execution_count": 0,
      "outputs": [
        {
          "output_type": "execute_result",
          "data": {
            "text/html": [
              "<div>\n",
              "<style scoped>\n",
              "    .dataframe tbody tr th:only-of-type {\n",
              "        vertical-align: middle;\n",
              "    }\n",
              "\n",
              "    .dataframe tbody tr th {\n",
              "        vertical-align: top;\n",
              "    }\n",
              "\n",
              "    .dataframe thead th {\n",
              "        text-align: right;\n",
              "    }\n",
              "</style>\n",
              "<table border=\"1\" class=\"dataframe\">\n",
              "  <thead>\n",
              "    <tr style=\"text-align: right;\">\n",
              "      <th></th>\n",
              "      <th>pm25</th>\n",
              "      <th>Prediction</th>\n",
              "    </tr>\n",
              "  </thead>\n",
              "  <tbody>\n",
              "    <tr>\n",
              "      <th>2019-12-27 02:00:00</th>\n",
              "      <td>268.0</td>\n",
              "      <td>NaN</td>\n",
              "    </tr>\n",
              "    <tr>\n",
              "      <th>2019-12-27 02:30:00</th>\n",
              "      <td>273.0</td>\n",
              "      <td>NaN</td>\n",
              "    </tr>\n",
              "    <tr>\n",
              "      <th>2019-12-27 03:00:00</th>\n",
              "      <td>259.0</td>\n",
              "      <td>NaN</td>\n",
              "    </tr>\n",
              "    <tr>\n",
              "      <th>2019-12-27 03:30:00</th>\n",
              "      <td>252.0</td>\n",
              "      <td>NaN</td>\n",
              "    </tr>\n",
              "    <tr>\n",
              "      <th>2019-12-27 04:00:00</th>\n",
              "      <td>220.0</td>\n",
              "      <td>NaN</td>\n",
              "    </tr>\n",
              "    <tr>\n",
              "      <th>...</th>\n",
              "      <td>...</td>\n",
              "      <td>...</td>\n",
              "    </tr>\n",
              "    <tr>\n",
              "      <th>2020-01-03 23:00:00</th>\n",
              "      <td>295.0</td>\n",
              "      <td>NaN</td>\n",
              "    </tr>\n",
              "    <tr>\n",
              "      <th>2020-01-03 23:30:00</th>\n",
              "      <td>312.0</td>\n",
              "      <td>NaN</td>\n",
              "    </tr>\n",
              "    <tr>\n",
              "      <th>2020-01-04 00:30:00</th>\n",
              "      <td>NaN</td>\n",
              "      <td>317.038322</td>\n",
              "    </tr>\n",
              "    <tr>\n",
              "      <th>2020-01-04 01:30:00</th>\n",
              "      <td>NaN</td>\n",
              "      <td>321.071671</td>\n",
              "    </tr>\n",
              "    <tr>\n",
              "      <th>2020-01-04 02:30:00</th>\n",
              "      <td>NaN</td>\n",
              "      <td>326.225331</td>\n",
              "    </tr>\n",
              "  </tbody>\n",
              "</table>\n",
              "<p>383 rows × 2 columns</p>\n",
              "</div>"
            ],
            "text/plain": [
              "                      pm25  Prediction\n",
              "2019-12-27 02:00:00  268.0         NaN\n",
              "2019-12-27 02:30:00  273.0         NaN\n",
              "2019-12-27 03:00:00  259.0         NaN\n",
              "2019-12-27 03:30:00  252.0         NaN\n",
              "2019-12-27 04:00:00  220.0         NaN\n",
              "...                    ...         ...\n",
              "2020-01-03 23:00:00  295.0         NaN\n",
              "2020-01-03 23:30:00  312.0         NaN\n",
              "2020-01-04 00:30:00    NaN  317.038322\n",
              "2020-01-04 01:30:00    NaN  321.071671\n",
              "2020-01-04 02:30:00    NaN  326.225331\n",
              "\n",
              "[383 rows x 2 columns]"
            ]
          },
          "metadata": {
            "tags": []
          },
          "execution_count": 193
        }
      ]
    },
    {
      "cell_type": "code",
      "metadata": {
        "id": "mrnLI-E70bui",
        "colab_type": "code",
        "outputId": "f62734b0-9f6e-4b2f-99c5-8d70d4443c2c",
        "colab": {
          "base_uri": "https://localhost:8080/",
          "height": 287
        }
      },
      "source": [
        "\n",
        "plt.figure(figsize=(30, 5))\n",
        "plt.plot(df_proj.index, df_proj['pm25'])\n",
        "plt.plot(df_proj.index, df_proj['Prediction'], color='r')\n",
        "plt.legend(loc='best', fontsize='xx-large')\n",
        "plt.xticks(fontsize=18)\n",
        "plt.yticks(fontsize=16)\n",
        "plt.show()"
      ],
      "execution_count": 0,
      "outputs": [
        {
          "output_type": "stream",
          "text": [
            "No handles with labels found to put in legend.\n"
          ],
          "name": "stderr"
        },
        {
          "output_type": "display_data",
          "data": {
            "image/png": "[encoded data removed]",
            "text/plain": [
              "<Figure size 2160x360 with 1 Axes>"
            ]
          },
          "metadata": {
            "tags": [],
            "needs_background": "light"
          }
        }
      ]
    },
    {
      "cell_type": "code",
      "metadata": {
        "id": "DZmCNVGTUaf1",
        "colab_type": "code",
        "colab": {}
      },
      "source": [
        "# model.save('tnsf.h5')"
      ],
      "execution_count": 0,
      "outputs": []
    },
    {
      "cell_type": "code",
      "metadata": {
        "id": "yd6ksYNsfQC1",
        "colab_type": "code",
        "colab": {}
      },
      "source": [
        "\n",
        "# !pip install tensorflowjs\n",
        "# !tensorflowjs_converter --input_format keras tnsf.h5 tfjs_model\n"
      ],
      "execution_count": 0,
      "outputs": []
    },
    {
      "cell_type": "code",
      "metadata": {
        "id": "JCkKKAOuT6gZ",
        "colab_type": "code",
        "colab": {}
      },
      "source": [
        ""
      ],
      "execution_count": 0,
      "outputs": []
    }
  ]
}